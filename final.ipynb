{
 "cells": [
  {
   "cell_type": "code",
   "execution_count": 97,
   "id": "50b47902",
   "metadata": {},
   "outputs": [],
   "source": [
    "import pandas as pd\n",
    "import numpy as np\n",
    "import matplotlib.pyplot as plt\n",
    "import joblib\n",
    "from sklearn.model_selection import train_test_split, RandomizedSearchCV\n",
    "from sklearn.preprocessing import OneHotEncoder\n",
    "from sklearn.metrics import (\n",
    "    classification_report, confusion_matrix, roc_auc_score,\n",
    "    accuracy_score, recall_score, precision_recall_curve\n",
    ")\n",
    "from imblearn.over_sampling import SMOTE\n",
    "from xgboost import XGBClassifier"
   ]
  },
  {
   "cell_type": "code",
   "execution_count": 98,
   "id": "0e91a457",
   "metadata": {},
   "outputs": [
    {
     "data": {
      "text/html": [
       "<div>\n",
       "<style scoped>\n",
       "    .dataframe tbody tr th:only-of-type {\n",
       "        vertical-align: middle;\n",
       "    }\n",
       "\n",
       "    .dataframe tbody tr th {\n",
       "        vertical-align: top;\n",
       "    }\n",
       "\n",
       "    .dataframe thead th {\n",
       "        text-align: right;\n",
       "    }\n",
       "</style>\n",
       "<table border=\"1\" class=\"dataframe\">\n",
       "  <thead>\n",
       "    <tr style=\"text-align: right;\">\n",
       "      <th></th>\n",
       "      <th>Gender</th>\n",
       "      <th>Age</th>\n",
       "      <th>State</th>\n",
       "      <th>City</th>\n",
       "      <th>Bank_Branch</th>\n",
       "      <th>Account_Type</th>\n",
       "      <th>Transaction_Amount</th>\n",
       "      <th>Transaction_Type</th>\n",
       "      <th>Merchant_Category</th>\n",
       "      <th>Account_Balance</th>\n",
       "      <th>Transaction_Device</th>\n",
       "      <th>Device_Type</th>\n",
       "      <th>Is_Fraud</th>\n",
       "      <th>Transaction_Currency</th>\n",
       "    </tr>\n",
       "  </thead>\n",
       "  <tbody>\n",
       "    <tr>\n",
       "      <th>0</th>\n",
       "      <td>Male</td>\n",
       "      <td>60</td>\n",
       "      <td>Kerala</td>\n",
       "      <td>Thiruvananthapuram</td>\n",
       "      <td>Thiruvananthapuram Branch</td>\n",
       "      <td>Savings</td>\n",
       "      <td>32415.45</td>\n",
       "      <td>Transfer</td>\n",
       "      <td>Restaurant</td>\n",
       "      <td>74557.27</td>\n",
       "      <td>Voice Assistant</td>\n",
       "      <td>POS</td>\n",
       "      <td>0</td>\n",
       "      <td>INR</td>\n",
       "    </tr>\n",
       "    <tr>\n",
       "      <th>1</th>\n",
       "      <td>Female</td>\n",
       "      <td>51</td>\n",
       "      <td>Maharashtra</td>\n",
       "      <td>Nashik</td>\n",
       "      <td>Nashik Branch</td>\n",
       "      <td>Business</td>\n",
       "      <td>43622.60</td>\n",
       "      <td>Bill Payment</td>\n",
       "      <td>Restaurant</td>\n",
       "      <td>74622.66</td>\n",
       "      <td>POS Mobile Device</td>\n",
       "      <td>Desktop</td>\n",
       "      <td>0</td>\n",
       "      <td>INR</td>\n",
       "    </tr>\n",
       "    <tr>\n",
       "      <th>2</th>\n",
       "      <td>Male</td>\n",
       "      <td>20</td>\n",
       "      <td>Bihar</td>\n",
       "      <td>Bhagalpur</td>\n",
       "      <td>Bhagalpur Branch</td>\n",
       "      <td>Savings</td>\n",
       "      <td>63062.56</td>\n",
       "      <td>Bill Payment</td>\n",
       "      <td>Groceries</td>\n",
       "      <td>66817.99</td>\n",
       "      <td>ATM</td>\n",
       "      <td>Desktop</td>\n",
       "      <td>0</td>\n",
       "      <td>INR</td>\n",
       "    </tr>\n",
       "    <tr>\n",
       "      <th>3</th>\n",
       "      <td>Female</td>\n",
       "      <td>57</td>\n",
       "      <td>Tamil Nadu</td>\n",
       "      <td>Chennai</td>\n",
       "      <td>Chennai Branch</td>\n",
       "      <td>Business</td>\n",
       "      <td>14000.72</td>\n",
       "      <td>Debit</td>\n",
       "      <td>Entertainment</td>\n",
       "      <td>58177.08</td>\n",
       "      <td>POS Mobile App</td>\n",
       "      <td>Mobile</td>\n",
       "      <td>0</td>\n",
       "      <td>INR</td>\n",
       "    </tr>\n",
       "    <tr>\n",
       "      <th>4</th>\n",
       "      <td>Female</td>\n",
       "      <td>43</td>\n",
       "      <td>Punjab</td>\n",
       "      <td>Amritsar</td>\n",
       "      <td>Amritsar Branch</td>\n",
       "      <td>Savings</td>\n",
       "      <td>18335.16</td>\n",
       "      <td>Transfer</td>\n",
       "      <td>Entertainment</td>\n",
       "      <td>16108.56</td>\n",
       "      <td>Virtual Card</td>\n",
       "      <td>Mobile</td>\n",
       "      <td>0</td>\n",
       "      <td>INR</td>\n",
       "    </tr>\n",
       "  </tbody>\n",
       "</table>\n",
       "</div>"
      ],
      "text/plain": [
       "   Gender  Age        State                City                Bank_Branch  \\\n",
       "0    Male   60       Kerala  Thiruvananthapuram  Thiruvananthapuram Branch   \n",
       "1  Female   51  Maharashtra              Nashik              Nashik Branch   \n",
       "2    Male   20        Bihar           Bhagalpur           Bhagalpur Branch   \n",
       "3  Female   57   Tamil Nadu             Chennai             Chennai Branch   \n",
       "4  Female   43       Punjab            Amritsar            Amritsar Branch   \n",
       "\n",
       "  Account_Type  Transaction_Amount Transaction_Type Merchant_Category  \\\n",
       "0      Savings            32415.45         Transfer        Restaurant   \n",
       "1     Business            43622.60     Bill Payment        Restaurant   \n",
       "2      Savings            63062.56     Bill Payment         Groceries   \n",
       "3     Business            14000.72            Debit     Entertainment   \n",
       "4      Savings            18335.16         Transfer     Entertainment   \n",
       "\n",
       "   Account_Balance Transaction_Device Device_Type  Is_Fraud  \\\n",
       "0         74557.27    Voice Assistant         POS         0   \n",
       "1         74622.66  POS Mobile Device     Desktop         0   \n",
       "2         66817.99                ATM     Desktop         0   \n",
       "3         58177.08     POS Mobile App      Mobile         0   \n",
       "4         16108.56       Virtual Card      Mobile         0   \n",
       "\n",
       "  Transaction_Currency  \n",
       "0                  INR  \n",
       "1                  INR  \n",
       "2                  INR  \n",
       "3                  INR  \n",
       "4                  INR  "
      ]
     },
     "execution_count": 98,
     "metadata": {},
     "output_type": "execute_result"
    }
   ],
   "source": [
    "df = pd.read_csv(\"Bank_Transaction_Fraud_Detection.csv\")\n",
    "\n",
    "drop_cols = [\n",
    "    'Customer_ID', 'Customer_Name', 'Transaction_ID', 'Merchant_ID',\n",
    "    'Customer_Contact', 'Customer_Email', 'Transaction_Date', 'Transaction_Time',\n",
    "    'Transaction_Location', 'Transaction_Description'\n",
    "]\n",
    "df = df.drop(columns=drop_cols)\n",
    "\n",
    "df.head()"
   ]
  },
  {
   "cell_type": "code",
   "execution_count": 99,
   "id": "1e26b8a6",
   "metadata": {},
   "outputs": [
    {
     "name": "stdout",
     "output_type": "stream",
     "text": [
      "Variabel Types: \n",
      " Gender                   object\n",
      "Age                       int64\n",
      "State                    object\n",
      "City                     object\n",
      "Bank_Branch              object\n",
      "Account_Type             object\n",
      "Transaction_Amount      float64\n",
      "Transaction_Type         object\n",
      "Merchant_Category        object\n",
      "Account_Balance         float64\n",
      "Transaction_Device       object\n",
      "Device_Type              object\n",
      "Is_Fraud                  int64\n",
      "Transaction_Currency     object\n",
      "dtype: object\n"
     ]
    }
   ],
   "source": [
    "print(\"Variabel Types: \\n\", df.dtypes)"
   ]
  },
  {
   "cell_type": "code",
   "execution_count": 100,
   "id": "519d1f22",
   "metadata": {},
   "outputs": [
    {
     "data": {
      "image/png": "[encoded data removed]",
      "text/plain": [
       "<Figure size 1500x800 with 4 Axes>"
      ]
     },
     "metadata": {},
     "output_type": "display_data"
    }
   ],
   "source": [
    "df_numeric = df.select_dtypes(include='number')\n",
    "n_vars = df_numeric.shape[1]\n",
    "n_cols = 3\n",
    "n_rows = math.ceil(n_vars / n_cols)\n",
    "\n",
    "plt.figure(figsize=(n_cols * 5, n_rows * 4))\n",
    "for i in range(n_vars):\n",
    "    plt.subplot(n_rows, n_cols, i + 1)\n",
    "    plt.hist(df_numeric.iloc[:, i], bins=20, color='skyblue', edgecolor='black')\n",
    "    plt.title(df_numeric.columns[i], fontsize=10)\n",
    "    plt.xlabel('Value')\n",
    "    plt.ylabel('Frequency')\n",
    "plt.tight_layout()\n",
    "plt.show()"
   ]
  },
  {
   "cell_type": "code",
   "execution_count": 101,
   "id": "23808df8",
   "metadata": {},
   "outputs": [],
   "source": [
    "X = df.drop(columns=['Is_Fraud'])\n",
    "y = df['Is_Fraud']"
   ]
  },
  {
   "cell_type": "code",
   "execution_count": 102,
   "id": "b8eeb673",
   "metadata": {},
   "outputs": [
    {
     "name": "stdout",
     "output_type": "stream",
     "text": [
      "Missing Value:\n",
      " Gender                  0\n",
      "Age                     0\n",
      "State                   0\n",
      "City                    0\n",
      "Bank_Branch             0\n",
      "Account_Type            0\n",
      "Transaction_Amount      0\n",
      "Transaction_Type        0\n",
      "Merchant_Category       0\n",
      "Account_Balance         0\n",
      "Transaction_Device      0\n",
      "Device_Type             0\n",
      "Is_Fraud                0\n",
      "Transaction_Currency    0\n",
      "dtype: int64\n"
     ]
    }
   ],
   "source": [
    "print(\"Missing Value:\\n\", df.isnull().sum())"
   ]
  },
  {
   "cell_type": "code",
   "execution_count": 103,
   "id": "857d851e",
   "metadata": {},
   "outputs": [
    {
     "name": "stdout",
     "output_type": "stream",
     "text": [
      "Gender: 2 unique values\n",
      "State: 34 unique values\n",
      "City: 145 unique values\n",
      "Bank_Branch: 145 unique values\n",
      "Account_Type: 3 unique values\n",
      "Transaction_Type: 5 unique values\n",
      "Merchant_Category: 6 unique values\n",
      "Transaction_Device: 20 unique values\n",
      "Device_Type: 4 unique values\n",
      "Transaction_Currency: 1 unique values\n"
     ]
    }
   ],
   "source": [
    "for col in X.select_dtypes(include='object').columns:\n",
    "    print(f\"{col}: {X[col].nunique()} unique values\")"
   ]
  },
  {
   "cell_type": "code",
   "execution_count": 104,
   "id": "e1e4b236",
   "metadata": {},
   "outputs": [
    {
     "name": "stdout",
     "output_type": "stream",
     "text": [
      "Gender\n",
      "Male      100452\n",
      "Female     99548\n",
      "Name: count, dtype: int64\n",
      "\n",
      " Account_Type\n",
      "Checking    66924\n",
      "Savings     66593\n",
      "Business    66483\n",
      "Name: count, dtype: int64\n",
      "\n",
      " Transaction_Type\n",
      "Credit          40180\n",
      "Debit           40050\n",
      "Bill Payment    40040\n",
      "Transfer        39953\n",
      "Withdrawal      39777\n",
      "Name: count, dtype: int64\n",
      "\n",
      " Merchant_Category\n",
      "Restaurant       33525\n",
      "Entertainment    33421\n",
      "Electronics      33409\n",
      "Clothing         33340\n",
      "Groceries        33187\n",
      "Health           33118\n",
      "Name: count, dtype: int64\n",
      "\n",
      " Device_Type\n",
      "POS        50111\n",
      "ATM        50055\n",
      "Mobile     49962\n",
      "Desktop    49872\n",
      "Name: count, dtype: int64\n",
      "\n",
      " Is_Fraud\n",
      "0    189912\n",
      "1     10088\n",
      "Name: count, dtype: int64\n"
     ]
    }
   ],
   "source": [
    "print(df['Gender'].value_counts())\n",
    "print(\"\\n\", df['Account_Type'].value_counts())\n",
    "print(\"\\n\", df['Transaction_Type'].value_counts())\n",
    "print(\"\\n\", df['Merchant_Category'].value_counts())\n",
    "print(\"\\n\", df['Device_Type'].value_counts())\n",
    "print(\"\\n\", df['Is_Fraud'].value_counts())"
   ]
  },
  {
   "cell_type": "code",
   "execution_count": 105,
   "id": "7ced0040",
   "metadata": {},
   "outputs": [],
   "source": [
    "X['Gender'] = X['Gender'].map({'Male': 1, 'Female': 0})"
   ]
  },
  {
   "cell_type": "code",
   "execution_count": 106,
   "id": "c05df245",
   "metadata": {},
   "outputs": [],
   "source": [
    "cat_cols = ['Account_Type', 'Transaction_Type', 'Merchant_Category', 'Device_Type']\n",
    "ohe = OneHotEncoder(sparse_output=False, handle_unknown='ignore')\n",
    "encoded = ohe.fit_transform(X[cat_cols])\n",
    "encoded_cols = pd.DataFrame(encoded, columns=ohe.get_feature_names_out(cat_cols), index=X.index)\n",
    "\n",
    "X_numeric = X.drop(columns=cat_cols)\n",
    "X_final = pd.concat([X_numeric, encoded_cols], axis=1)\n",
    "drop_object_cols = ['State', 'City', 'Bank_Branch', 'Transaction_Device', 'Transaction_Currency']\n",
    "X_final_clean = X_final.drop(columns=drop_object_cols)"
   ]
  },
  {
   "cell_type": "code",
   "execution_count": 107,
   "id": "6e49265a",
   "metadata": {},
   "outputs": [],
   "source": [
    "X_train, X_test, y_train, y_test = train_test_split(\n",
    "    X_final_clean, y, test_size=0.2, random_state=42, stratify=y\n",
    ")"
   ]
  },
  {
   "cell_type": "code",
   "execution_count": 108,
   "id": "9eda1e83",
   "metadata": {},
   "outputs": [
    {
     "name": "stdout",
     "output_type": "stream",
     "text": [
      "Class distribution before SMOTE:\n",
      "Is_Fraud\n",
      "0    151930\n",
      "1      8070\n",
      "Name: count, dtype: int64\n",
      "Class distribution after SMOTE:\n",
      "Is_Fraud\n",
      "0    151930\n",
      "1    151930\n",
      "Name: count, dtype: int64\n"
     ]
    }
   ],
   "source": [
    "print(\"Class distribution before SMOTE:\")\n",
    "print(y_train.value_counts())\n",
    "\n",
    "# Karena data Y tidak seimbang, gunakan SMOTE untuk menyeimbangkan\n",
    "smote = SMOTE(random_state=42)\n",
    "X_res, y_res = smote.fit_resample(X_train, y_train)\n",
    "\n",
    "# Tampilkan distribusi kelas setelah SMOTE\n",
    "print(\"Class distribution after SMOTE:\")\n",
    "print(y_res.value_counts())"
   ]
  },
  {
   "cell_type": "code",
   "execution_count": 109,
   "id": "70ff1683",
   "metadata": {},
   "outputs": [],
   "source": [
    "X_train, X_val, y_train, y_val = train_test_split(\n",
    "    X_res, y_res, test_size=0.3, random_state=42, stratify=y_res\n",
    ")"
   ]
  },
  {
   "cell_type": "code",
   "execution_count": null,
   "id": "749dab8c",
   "metadata": {},
   "outputs": [
    {
     "name": "stdout",
     "output_type": "stream",
     "text": [
      "Fitting 3 folds for each of 10 candidates, totalling 30 fits\n",
      "Best XGBoost params: {'subsample': 0.8, 'scale_pos_weight': 10, 'n_estimators': 100, 'max_depth': 5, 'learning_rate': 0.01, 'colsample_bytree': 1}\n",
      "Optimal threshold: 0.7847141\n",
      "Classification Report:\n",
      "               precision    recall  f1-score   support\n",
      "\n",
      "           0       0.94      1.00      0.97     45579\n",
      "           1       1.00      0.94      0.97     45579\n",
      "\n",
      "    accuracy                           0.97     91158\n",
      "   macro avg       0.97      0.97      0.97     91158\n",
      "weighted avg       0.97      0.97      0.97     91158\n",
      "\n",
      "Confusion Matrix:\n",
      " [[45579     0]\n",
      " [ 2868 42711]]\n",
      "ROC AUC Score: 0.971545098357661\n",
      "Recall (fraud class): 0.9370762851313105\n",
      "Accuracy: 0.9685381425656553\n"
     ]
    }
   ],
   "source": [
    "params = {\n",
    "    'max_depth': [3, 5, 7, 10],\n",
    "    'learning_rate': [0.01, 0.05, 0.1, 0.2],\n",
    "    'n_estimators': [100, 200, 300],\n",
    "    'scale_pos_weight': [1, 2, 5, 10],\n",
    "    'subsample': [0.8, 1],\n",
    "    'colsample_bytree': [0.8, 1]\n",
    "}\n",
    "\n",
    "xgb = XGBClassifier(use_label_encoder=False, eval_metric='logloss', random_state=42)\n",
    "search = RandomizedSearchCV(xgb, params, n_iter=10, scoring='recall', cv=3, verbose=1, n_jobs=1)\n",
    "search.fit(X_train, y_train)\n",
    "\n",
    "model = search.best_estimator_\n",
    "y_proba = model.predict_proba(X_val)[:, 1]\n",
    "\n",
    "prec, rec, thresholds = precision_recall_curve(y_val, y_proba)\n",
    "f1 = 2 * (prec * rec) / (prec + rec + 1e-8)\n",
    "optimal_idx = np.argmax(f1)\n",
    "optimal_threshold = thresholds[optimal_idx]\n",
    "\n",
    "y_pred_opt = (y_proba >= optimal_threshold).astype(int)\n",
    "\n",
    "print('Best XGBoost params:', search.best_params_)\n",
    "print('Optimal threshold:', optimal_threshold)\n",
    "print('Classification Report:\\n', classification_report(y_val, y_pred_opt))\n",
    "print('Confusion Matrix:\\n', confusion_matrix(y_val, y_pred_opt))\n",
    "print('ROC AUC Score:', roc_auc_score(y_val, y_proba))\n",
    "print('Recall (fraud class):', recall_score(y_val, y_pred_opt))\n",
    "print('Accuracy:', accuracy_score(y_val, y_pred_opt))\n",
    "\n",
    "model.save_model(\"fraud_detection_model.json\")\n",
    "\n",
    "print(\"XGBoost model saved to fraud_detection_model.json\")"
   ]
  },
  {
   "cell_type": "code",
   "execution_count": null,
   "id": "bc6b979b",
   "metadata": {},
   "outputs": [],
   "source": [
    "joblib.dump(ohe, 'onehot_encoder.pkl')\n",
    "\n",
    "joblib.dump(X_final_clean.columns.tolist(), 'feature_columns.pkl')"
   ]
  }
 ],
 "metadata": {
  "kernelspec": {
   "display_name": "base",
   "language": "python",
   "name": "python3"
  },
  "language_info": {
   "codemirror_mode": {
    "name": "ipython",
    "version": 3
   },
   "file_extension": ".py",
   "mimetype": "text/x-python",
   "name": "python",
   "nbconvert_exporter": "python",
   "pygments_lexer": "ipython3",
   "version": "3.11.7"
  }
 },
 "nbformat": 4,
 "nbformat_minor": 5
}
